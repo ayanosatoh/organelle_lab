{
  "cells": [
    {
      "cell_type": "code",
      "execution_count": null,
      "metadata": {
        "id": "X8aIT5GY4e7N"
      },
      "outputs": [],
      "source": [
        "# #@title ドライブをマウント\n",
        "# from google.colab import drive\n",
        "# drive.mount('/content/drive')"
      ]
    },
    {
      "cell_type": "code",
      "execution_count": null,
      "metadata": {
        "id": "eaGOlywt4rVf"
      },
      "outputs": [],
      "source": [
        "# %%capture\n",
        "# #@title pipでモジュールをインストール\n",
        "# !pip install flowcytometrytools\n",
        "# !pip install scipy\n",
        "# !pip install japanize-matplotlib"
      ]
    },
    {
      "cell_type": "code",
      "execution_count": null,
      "metadata": {
        "id": "sRL546cS4tDY"
      },
      "outputs": [],
      "source": [
        "#@title モジュールのインポート\n",
        "import FlowCytometryTools as fct\n",
        "from FlowCytometryTools import FCMeasurement\n",
        "import pandas as pd\n",
        "import numpy as np\n",
        "import matplotlib.pyplot as plt\n",
        "import seaborn as sns\n",
        "from scipy import stats\n",
        "from statistics import stdev, variance, median\n",
        "# import japanize_matplotlib"
      ]
    },
    {
      "cell_type": "code",
      "execution_count": null,
      "metadata": {
        "cellView": "form",
        "id": "SbW2hZVK4up-"
      },
      "outputs": [],
      "source": [
        "#@title FCSファイルを定義\n",
        "#@markdown コントロールのデータのパスを入力\n",
        "file_path1 = \"data/facs/Open-033.FCS\" #@param {type:\"string\"}\n",
        "sample1 = FCMeasurement(ID='33', \n",
        "                       datafile=file_path1)\n",
        "\n",
        "#@markdown テスト群のデータのパスを入力\n",
        "file_path2 = \"data/facs/Open-032.FCS\" #@param {type:\"string\"}\n",
        "sample2 = FCMeasurement(ID='32', \n",
        "                       datafile=file_path2)\n",
        "out_figpath = \"figure/fig_32-33.png\""
      ]
    },
    {
      "cell_type": "code",
      "execution_count": null,
      "metadata": {
        "cellView": "form",
        "id": "SbW2hZVK4up-"
      },
      "outputs": [],
      "source": [
        "#@title FCSファイルを定義\n",
        "#@markdown コントロールのデータのパスを入力\n",
        "file_path1 = \"data/facs/Open-046.FCS\" #@param {type:\"string\"}\n",
        "sample1 = FCMeasurement(ID='46', \n",
        "                       datafile=file_path1)\n",
        "\n",
        "#@markdown テスト群のデータのパスを入力\n",
        "file_path2 = \"data/facs/Open-045.FCS\" #@param {type:\"string\"}\n",
        "sample2 = FCMeasurement(ID='45', \n",
        "                       datafile=file_path2)\n",
        "out_figpath = \"figure/fig_45-46.png\""
      ]
    },
    {
      "cell_type": "code",
      "execution_count": null,
      "metadata": {
        "cellView": "form",
        "id": "SbW2hZVK4up-"
      },
      "outputs": [],
      "source": [
        "#@title FCSファイルを定義\n",
        "#@markdown コントロールのデータのパスを入力\n",
        "file_path1 = \"data/facs/Open-234.FCS\" #@param {type:\"string\"}\n",
        "sample1 = FCMeasurement(ID='234', \n",
        "                       datafile=file_path1)\n",
        "\n",
        "#@markdown テスト群のデータのパスを入力\n",
        "file_path2 = \"data/facs/Open-233.FCS\" #@param {type:\"string\"}\n",
        "sample2 = FCMeasurement(ID='233', \n",
        "                       datafile=file_path2)\n",
        "out_figpath = \"figure/fig_233-234.png\""
      ]
    },
    {
      "cell_type": "code",
      "execution_count": null,
      "metadata": {
        "cellView": "form",
        "id": "-PlSxVWu5KoY"
      },
      "outputs": [],
      "source": [
        "#@title RawDataをDataFlameにコピー\n",
        "df1 = sample1.data\n",
        "df2 = sample2.data\n",
        "\n",
        "print(\"パラメーターは次の通り\")\n",
        "print(list(df1))\n",
        "print(list(df2))"
      ]
    },
    {
      "cell_type": "code",
      "execution_count": null,
      "metadata": {},
      "outputs": [],
      "source": [
        "df1.head()"
      ]
    },
    {
      "cell_type": "code",
      "execution_count": null,
      "metadata": {
        "cellView": "form",
        "id": "SYr96WF95t90"
      },
      "outputs": [],
      "source": [
        "#@title グラフ描画に用いるパラメーターを定義\n",
        "\n",
        "#@markdown 粒径のパラメーターを入力\n",
        "target1 = \"Diameter (nm)\" #@param {type:\"string\"}\n",
        "\n",
        "#@markdown 蛍光のパラメーターを入力\n",
        "target2 = \"Fluorescence 2\" #@param {type:\"string\"}\n"
      ]
    },
    {
      "cell_type": "code",
      "execution_count": null,
      "metadata": {
        "cellView": "form",
        "id": "tsk0uhKr6XqW"
      },
      "outputs": [],
      "source": [
        "#@title binの範囲を計算\n",
        "#@markdown bin(ヒストグラムの棒)の個数を入力\n",
        "\n",
        "def bin_calc(Cont_df , Test_df , columns):\n",
        "    bin_num = \"500\" #@param {type:\"string\"}\n",
        "    bin_num = int(bin_num)\n",
        "    a = Cont_df[columns].min()\n",
        "    b = Test_df[columns].min()\n",
        "    min_num = min(a , b)\n",
        "    a = Cont_df[columns].max()\n",
        "    b = Test_df[columns].max()\n",
        "    max_num = max(a , b)\n",
        "    min_num = int(np.floor(min_num))\n",
        "    max_num = int(np.floor(max_num))\n",
        "    if min_num < 0:\n",
        "      min_num = -2\n",
        "    else:\n",
        "      min_num = sum(c.isdigit() for c in str(min_num)) -1\n",
        "    max_num = sum(c.isdigit() for c in str(max_num)) \n",
        "    c = np.logspace(min_num, max_num, bin_num)\n",
        "    return c\n",
        "\n",
        "bin_seq_D = bin_calc(df1 , df2 , target1)\n",
        "bin_seq = bin_calc(df1 , df2 , target2)"
      ]
    },
    {
      "cell_type": "code",
      "execution_count": null,
      "metadata": {
        "cellView": "form",
        "id": "G9dohB_86QTt"
      },
      "outputs": [],
      "source": [
        "#@title 粒径でヒストグラム描画\n",
        "\n",
        "fig = plt.figure(facecolor = \"white\" ,dpi = 100,  figsize=(6, 4))\n",
        "\n",
        "ax = fig.add_subplot(1,1,1)\n",
        "ax.yaxis.set_label_coords(-0.07,1)\n",
        "ax.set_xscale(\"log\")\n",
        "ax1 = plt.hist(df1[target1], bins=bin_seq_D , color=\"black\" , alpha=0.3 , label = \"Control\")\n",
        "ax2 = plt.hist(df2[target1], bins=bin_seq_D , color=\"red\" , alpha=0.3 , label = \"Test\")\n",
        "plt.legend(loc='upper left', borderaxespad=1)\n",
        "ax.set_xlabel(target1)\n",
        "plt.ylabel(\"Count\", rotation=0)\n",
        "\n",
        "plt.show()"
      ]
    },
    {
      "cell_type": "code",
      "execution_count": null,
      "metadata": {
        "cellView": "form",
        "id": "LzdGQ0xW_ryX"
      },
      "outputs": [],
      "source": [
        "#@title 粒径ヒストグラムに基づいて、切り捨てる値を入力\n",
        "\n",
        "#@markdown この値より小さいものを切り捨てる\n",
        "min_num = \"4000\" #@param{type:\"string\"}\n",
        "min_num = int(min_num)\n",
        "\n",
        "#@markdown この値より大きいものを切り捨てる\n",
        "max_num = \"30000\" #@param{type:\"string\"}\n",
        "max_num = int(max_num)\n",
        "\n",
        "#@markdown 切らない場合、範囲外の適当な値を入力してスキップする\n",
        "df1_a = df1[df1[\"Diameter (nm)\"] >= min_num]\n",
        "df2_a = df2[df2[\"Diameter (nm)\"] >= min_num]\n",
        "\n",
        "df1_a = df1_a[df1_a[\"Diameter (nm)\"] <= max_num]\n",
        "df2_a = df2_a[df2_a[\"Diameter (nm)\"] <= max_num]"
      ]
    },
    {
      "cell_type": "code",
      "execution_count": null,
      "metadata": {
        "cellView": "form",
        "id": "zjK1rkpkAJ0B"
      },
      "outputs": [],
      "source": [
        "#@title 切り捨て後の粒径でヒストグラム描画\n",
        "\n",
        "fig = plt.figure(facecolor = \"white\" ,dpi = 100,  figsize=(6, 4))\n",
        "\n",
        "ax = fig.add_subplot(1,1,1)\n",
        "ax.yaxis.set_label_coords(-0.07,1)\n",
        "ax.set_xscale(\"log\")\n",
        "ax1 = plt.hist(df1_a[target1], bins=bin_seq_D , color=\"black\" , alpha=0.3 , label = \"Control\")\n",
        "ax2 = plt.hist(df2_a[target1], bins=bin_seq_D , color=\"red\" , alpha=0.3 , label = \"Test\")\n",
        "plt.legend(loc='upper left', borderaxespad=1)\n",
        "ax.set_xlabel(target1)\n",
        "plt.ylabel(\"Count\", rotation=0)\n",
        "\n",
        "plt.show()"
      ]
    },
    {
      "cell_type": "code",
      "execution_count": null,
      "metadata": {
        "cellView": "form",
        "id": "lgWEqw2EAiZz"
      },
      "outputs": [],
      "source": [
        "#@title MFIの計算式を定義\n",
        "\n",
        "def MFI_calc(df , columns_name):\n",
        "    a = stats.gmean(df[columns_name])\n",
        "    a = \"{:.2f}\".format(a)\n",
        "    return str(a)\n",
        "\n",
        "def MFI_calc_Ratio(Cont_df , Test_df , columns_name):\n",
        "    a = stats.gmean(Test_df[columns_name])\n",
        "    b = stats.gmean(Cont_df[columns_name])\n",
        "    c = a / b\n",
        "    c = \"{:.2f}\".format(c)\n",
        "    return str(c)\n",
        "\n",
        "df1_calc = df1_a[df1_a[target2] > 0]\n",
        "df2_calc = df2_a[df2_a[target2] > 0]"
      ]
    },
    {
      "cell_type": "code",
      "execution_count": null,
      "metadata": {
        "cellView": "form",
        "id": "FCLuKfrIA1Ig"
      },
      "outputs": [],
      "source": [
        "#@markdown 蛍光強度のヒストグラム化\n",
        "# fig = plt.figure(facecolor = \"white\" ,dpi = 100,  figsize=(6, 4))\n",
        "fig = plt.figure(facecolor = \"white\" ,dpi = 300,  figsize=(9, 6))\n",
        "\n",
        "ax = fig.add_subplot(111)\n",
        "ax.yaxis.set_label_coords(-0.07,1)\n",
        "ax.set_xscale(\"log\")\n",
        "\n",
        "ax1 = plt.hist(df1_a[target2], bins=bin_seq , color=\"black\" , alpha=0.3 , label = \"Control\\nMFI:\" + MFI_calc(df1_calc , target2))\n",
        "ax2 = plt.hist(df2_a[target2], bins=bin_seq , color=\"red\" , alpha=0.3 , label = \"Test\\nMFI:\" + MFI_calc(df2_calc , target2))\n",
        "\n",
        "plt.legend(loc='upper left', borderaxespad=1 , fontsize=14, title = \"MFI Ratio\" + MFI_calc_Ratio(df1_calc , df2_calc , target2)).get_title().set_fontsize(fontsize=14)\n",
        "# ax.set_xlabel(\"Fluorescence\")\n",
        "plt.xlabel(\"Fluorescence\", fontsize=16)\n",
        "# plt.ylabel(\"Count\", loc = \"top\", rotation=0,fontsize=16)\n",
        "plt.ylabel(\"Count\",fontsize=16, rotation=90)\n",
        "plt.tick_params(labelsize=14)\n",
        "\n",
        "plt.savefig(out_figpath, format=\"png\", dpi=300)\n",
        "plt.show()"
      ]
    }
  ],
  "metadata": {
    "colab": {
      "collapsed_sections": [],
      "name": "FlowCytometryデータ2群比較.ipynb",
      "provenance": []
    },
    "interpreter": {
      "hash": "bcf04f8c43aa23d01c7f3cd096b718647e954e730e768a3e042eb6281998742a"
    },
    "kernelspec": {
      "display_name": "Python 3.10.5 ('facs_tools')",
      "language": "python",
      "name": "python3"
    },
    "language_info": {
      "codemirror_mode": {
        "name": "ipython",
        "version": 3
      },
      "file_extension": ".py",
      "mimetype": "text/x-python",
      "name": "python",
      "nbconvert_exporter": "python",
      "pygments_lexer": "ipython3",
      "version": "3.8.13"
    }
  },
  "nbformat": 4,
  "nbformat_minor": 0
}
